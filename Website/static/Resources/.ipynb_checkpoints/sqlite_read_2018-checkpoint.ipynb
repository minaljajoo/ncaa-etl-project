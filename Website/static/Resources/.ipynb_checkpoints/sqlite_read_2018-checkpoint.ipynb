{
 "cells": [
  {
   "cell_type": "code",
   "execution_count": null,
   "metadata": {},
   "outputs": [],
   "source": []
  },
  {
   "cell_type": "raw",
   "metadata": {},
   "source": [
    "import pandas as pd\n",
    "# Import SQLAlchemy `automap` and other dependencies here\n",
    "import sqlalchemy\n",
    "from sqlalchemy.ext.automap import automap_base\n",
    "from sqlalchemy.orm import Session\n",
    "from sqlalchemy import create_engine, inspect, func"
   ]
  },
  {
   "cell_type": "code",
   "execution_count": 33,
   "metadata": {},
   "outputs": [],
   "source": [
    "# Create an engine for the `emoji.sqlite` database\n",
    "engine = create_engine(\"sqlite:///ncaa_Rank_Seed2018.sqlite\", echo=False)"
   ]
  },
  {
   "cell_type": "code",
   "execution_count": 34,
   "metadata": {},
   "outputs": [
    {
     "data": {
      "text/plain": [
       "['ranks', 'seeds']"
      ]
     },
     "execution_count": 34,
     "metadata": {},
     "output_type": "execute_result"
    }
   ],
   "source": [
    "# Use the Inspector to explore the database and print the table names\n",
    "inspector = inspect(engine)\n",
    "inspector.get_table_names()"
   ]
  },
  {
   "cell_type": "code",
   "execution_count": 35,
   "metadata": {},
   "outputs": [
    {
     "name": "stdout",
     "output_type": "stream",
     "text": [
      "Rank INTEGER\n",
      "Name VARCHAR(255)\n",
      "Team VARCHAR(255)\n",
      "PTS INTEGER\n"
     ]
    }
   ],
   "source": [
    "# Use Inspector to print the column names and types\n",
    "columns = inspector.get_columns('ranks')\n",
    "for c in columns:\n",
    "    print(c['name'], c[\"type\"])"
   ]
  },
  {
   "cell_type": "code",
   "execution_count": 36,
   "metadata": {},
   "outputs": [
    {
     "data": {
      "text/plain": [
       "[(1, 'Mike Daum', 'South Dakota St.', 314),\n",
       " (2, 'Justin Wright-Foreman', 'Hofstra', 283),\n",
       " (3, 'Chris Clemons', 'Campbell', 279),\n",
       " (4, 'Antoine Davis', 'Detroit Mercy', 274),\n",
       " (5, 'Yoeli Childs', 'BYU', 273),\n",
       " (6, 'Jermaine Marrow', 'Hampton', 259),\n",
       " (7, 'Bubba Parham', 'VMI', 258),\n",
       " (8, 'Carsen Edwards', 'Purdue', 255),\n",
       " (9, 'Jordan Ford', \"Saint Mary's (CA)\", 248),\n",
       " (10, 'David Jenkins', 'South Dakota St.', 248)]"
      ]
     },
     "execution_count": 36,
     "metadata": {},
     "output_type": "execute_result"
    }
   ],
   "source": [
    "engine.execute('SELECT * FROM ranks LIMIT 10').fetchall()"
   ]
  },
  {
   "cell_type": "code",
   "execution_count": 39,
   "metadata": {},
   "outputs": [],
   "source": [
    "# Reflect Database into ORM class\n",
    "Base = automap_base()\n",
    "Base.prepare(engine, reflect=True)\n",
    "Ranks = Base.classes.ranks\n"
   ]
  },
  {
   "cell_type": "code",
   "execution_count": 40,
   "metadata": {},
   "outputs": [],
   "source": [
    "# Start a session to query the database\n",
    "session = Session(engine)"
   ]
  },
  {
   "cell_type": "code",
   "execution_count": 42,
   "metadata": {},
   "outputs": [
    {
     "data": {
      "text/plain": [
       "(1, 'Mike Daum', 'South Dakota St.', 314)"
      ]
     },
     "execution_count": 42,
     "metadata": {},
     "output_type": "execute_result"
    }
   ],
   "source": [
    "# query the database\n",
    "session.query(Ranks.Rank, Ranks.Name, Ranks.Team,Ranks.PTS).first()"
   ]
  },
  {
   "cell_type": "code",
   "execution_count": 30,
   "metadata": {},
   "outputs": [],
   "source": [
    "results = session.query(Teams.name, Teams.region).filter(Teams.region == \"SOUTH\").all()\n"
   ]
  },
  {
   "cell_type": "code",
   "execution_count": 31,
   "metadata": {},
   "outputs": [
    {
     "name": "stdout",
     "output_type": "stream",
     "text": [
      "[('Wake Forest', 'SOUTH'), ('Texas Southern', 'SOUTH'), ('North Carolina', 'SOUTH'), ('Kansas St', 'SOUTH'), ('Arkansas', 'SOUTH'), ('Seton Hall', 'SOUTH'), ('Minnesota', 'SOUTH'), ('Middle Tenn.', 'SOUTH'), ('Butler', 'SOUTH'), ('Winthrop', 'SOUTH'), ('Cincinnati', 'SOUTH'), ('UCLA', 'SOUTH'), ('Kent St.', 'SOUTH'), ('Dayton', 'SOUTH'), ('Wichita St', 'SOUTH'), ('Kentucky', 'SOUTH'), ('Northern Ky.', 'SOUTH')]\n"
     ]
    }
   ],
   "source": [
    "print (results)"
   ]
  }
 ],
 "metadata": {
  "kernelspec": {
   "display_name": "Python 3",
   "language": "python",
   "name": "python3"
  },
  "language_info": {
   "codemirror_mode": {
    "name": "ipython",
    "version": 3
   },
   "file_extension": ".py",
   "mimetype": "text/x-python",
   "name": "python",
   "nbconvert_exporter": "python",
   "pygments_lexer": "ipython3",
   "version": "3.6.6"
  }
 },
 "nbformat": 4,
 "nbformat_minor": 2
}
