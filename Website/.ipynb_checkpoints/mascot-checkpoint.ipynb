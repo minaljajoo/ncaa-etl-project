{
 "cells": [
  {
   "cell_type": "code",
   "execution_count": 107,
   "metadata": {},
   "outputs": [
    {
     "ename": "ModuleNotFoundError",
     "evalue": "No module named 'datadotworld'",
     "output_type": "error",
     "traceback": [
      "\u001b[0;31m---------------------------------------------------------------------------\u001b[0m",
      "\u001b[0;31mModuleNotFoundError\u001b[0m                       Traceback (most recent call last)",
      "\u001b[0;32m<ipython-input-107-883c42f9a90b>\u001b[0m in \u001b[0;36m<module>\u001b[0;34m()\u001b[0m\n\u001b[1;32m      4\u001b[0m \u001b[0;32mimport\u001b[0m \u001b[0mpandas\u001b[0m \u001b[0;32mas\u001b[0m \u001b[0mpd\u001b[0m\u001b[0;34m\u001b[0m\u001b[0m\n\u001b[1;32m      5\u001b[0m \u001b[0;32mimport\u001b[0m \u001b[0mtime\u001b[0m\u001b[0;34m\u001b[0m\u001b[0m\n\u001b[0;32m----> 6\u001b[0;31m \u001b[0;32mimport\u001b[0m \u001b[0mdatadotworld\u001b[0m \u001b[0;32mas\u001b[0m \u001b[0mdw\u001b[0m\u001b[0;34m\u001b[0m\u001b[0m\n\u001b[0m",
      "\u001b[0;31mModuleNotFoundError\u001b[0m: No module named 'datadotworld'"
     ]
    }
   ],
   "source": [
    "from splinter import Browser\n",
    "from splinter.exceptions import ElementDoesNotExist\n",
    "from bs4 import BeautifulSoup\n",
    "import pandas as pd\n",
    "import time\n",
    "import datadotworld as dw"
   ]
  },
  {
   "cell_type": "markdown",
   "metadata": {},
   "source": [
    "# Mac Users"
   ]
  },
  {
   "cell_type": "code",
   "execution_count": 87,
   "metadata": {},
   "outputs": [
    {
     "name": "stdout",
     "output_type": "stream",
     "text": [
      "/usr/local/bin/chromedriver\r\n"
     ]
    }
   ],
   "source": [
    "# https://splinter.readthedocs.io/en/latest/drivers/chrome.html\n",
    "!which chromedriver"
   ]
  },
  {
   "cell_type": "code",
   "execution_count": 88,
   "metadata": {},
   "outputs": [],
   "source": [
    "executable_path = {'executable_path': '/usr/local/bin/chromedriver'}\n",
    "browser = Browser('chrome', **executable_path, headless=False)"
   ]
  },
  {
   "cell_type": "markdown",
   "metadata": {},
   "source": [
    "# Windows Users"
   ]
  },
  {
   "cell_type": "code",
   "execution_count": 89,
   "metadata": {},
   "outputs": [],
   "source": [
    "# executable_path = {'executable_path': 'chromedriver.exe'}\n",
    "# browser = Browser('chrome', **executable_path, headless=False)"
   ]
  },
  {
   "cell_type": "code",
   "execution_count": 90,
   "metadata": {},
   "outputs": [],
   "source": [
    "\n",
    "game_url_file = 'Resources/game_urls.csv'\n",
    "game_url_df = pd.read_csv(game_url_file)\n"
   ]
  },
  {
   "cell_type": "code",
   "execution_count": 91,
   "metadata": {},
   "outputs": [
    {
     "name": "stdout",
     "output_type": "stream",
     "text": [
      "['https://www.ncaa.com/game/basketball-men/d1/2017/03/16/mt-st-marys-villanova', 'https://www.ncaa.com/game/basketball-men/d1/2017/03/16/virginia-tech-wisconsin', 'https://www.ncaa.com/game/basketball-men/d1/2017/03/16/unc-wilmington-virginia', 'https://www.ncaa.com/game/basketball-men/d1/2017/03/16/east-tenn-st-florida', 'https://www.ncaa.com/game/basketball-men/d1/2017/03/17/southern-california-smu', 'https://www.ncaa.com/game/basketball-men/d1/2017/03/17/new-mexico-st-baylor', 'https://www.ncaa.com/game/basketball-men/d1/2017/03/17/marquette-south-carolina', 'https://www.ncaa.com/game/basketball-men/d1/2017/03/17/troy-duke', 'https://www.ncaa.com/game/basketball-men/d1/2017/03/17/uc-davis-kansas', 'https://www.ncaa.com/game/basketball-men/d1/2017/03/17/michigan-st-miami-fl', 'https://www.ncaa.com/game/basketball-men/d1/2017/03/16/nevada-iowa-st', 'https://www.ncaa.com/game/basketball-men/d1/2017/03/16/vermont-purdue', 'https://www.ncaa.com/game/basketball-men/d1/2017/03/17/rhode-island-creighton', 'https://www.ncaa.com/game/basketball-men/d1/2017/03/17/iona-oregon', 'https://www.ncaa.com/game/basketball-men/d1/2017/03/17/jacksonville-st-louisville', 'https://www.ncaa.com/game/basketball-men/d1/2017/03/16/south-dakota-st-gonzaga', 'https://www.ncaa.com/game/basketball-men/d1/2017/03/16/vanderbilt-northwestern', 'https://www.ncaa.com/game/basketball-men/d1/2017/03/16/princeton-notre-dame', 'https://www.ncaa.com/game/basketball-men/d1/2017/03/16/bucknell-west-virginia', 'https://www.ncaa.com/game/basketball-men/d1/2017/03/16/xavier-maryland', 'https://www.ncaa.com/game/basketball-men/d1/2017/03/16/fgcu-florida-st', 'https://www.ncaa.com/game/basketball-men/d1/2017/03/16/vcu-st-marys-ca', 'https://www.ncaa.com/game/basketball-men/d1/2017/03/16/north-dakota-arizona', 'https://www.ncaa.com/game/basketball-men/d1/2017/03/17/texas-southern-north-carolina', 'https://www.ncaa.com/game/basketball-men/d1/2017/03/17/seton-hall-arkansas', 'https://www.ncaa.com/game/basketball-men/d1/2017/03/16/middle-tenn-minnesota', 'https://www.ncaa.com/game/basketball-men/d1/2017/03/16/winthrop-butler', 'https://www.ncaa.com/game/basketball-men/d1/2017/03/17/kansas-st-cincinnati', 'https://www.ncaa.com/game/basketball-men/d1/2017/03/17/kent-st-ucla', 'https://www.ncaa.com/game/basketball-men/d1/2017/03/17/wichita-st-dayton', 'https://www.ncaa.com/game/basketball-men/d1/2017/03/17/northern-ky-kentucky']\n"
     ]
    }
   ],
   "source": [
    "url_list =[]\n",
    "new_url_list = []\n",
    "for url in game_url_df.urls:\n",
    "    if ('03/16' in url or '03/17' in url):\n",
    "        url_list.append(url)\n",
    "    \n",
    "print(url_list)\n",
    "\n"
   ]
  },
  {
   "cell_type": "code",
   "execution_count": null,
   "metadata": {},
   "outputs": [],
   "source": [
    "team_names =[]\n",
    "team_mascots = []\n",
    "\n",
    "for team in url_list:\n",
    "\n",
    "    browser.visit(team)\n",
    "    time.sleep(2)\n",
    "    html = browser.html\n",
    "    soup = BeautifulSoup(html, 'html.parser')\n",
    "#<span class=\"team-name-long\">\n",
    "\n",
    "#<img class=\"team-logo\" src=\"//i.turner.ncaa.com/sites/default/files/images/logos/schools/bgd/mt-st-marys.svg\" title=\"Mt. St. Mary's\">\n",
    "    team1 = soup.find_all('span', class_='team-name-long')[0].text.strip()\n",
    "    \n",
    "    team2 = soup.find_all('span', class_='team-name-long')[1].text.strip()\n",
    "    mascot1 = 'https:' +soup.find_all('img', class_='team-logo')[0][\"src\"]\n",
    "    mascot2 = 'https:'+soup.find_all('img', class_='team-logo')[1][\"src\"]\n",
    "    team_names.append(team1)\n",
    "    team_names.append(team2)\n",
    "    team_mascots.append(mascot1)\n",
    "    team_mascots.append(mascot2)\n",
    "  \n",
    "   # Close the browser after scraping\n",
    "browser.quit()"
   ]
  },
  {
   "cell_type": "code",
   "execution_count": 96,
   "metadata": {},
   "outputs": [
    {
     "name": "stdout",
     "output_type": "stream",
     "text": [
      "[\"Mt. St. Mary's\", 'Villanova', 'Virginia Tech', 'Wisconsin', 'UNCW', 'Virginia', 'East Tenn. St.', 'Florida', 'USC', 'SMU', 'New Mexico St.', 'Baylor', 'Marquette', 'South Carolina', 'Troy', 'Duke', 'UC Davis', 'Kansas', 'Mich. St.', 'Miami (Fla.)', 'Nevada', 'Iowa State', 'Vermont', 'Purdue', 'Rhode Island', 'Creighton', 'Iona', 'Oregon', 'Jacksonville St.', 'Louisville', 'South Dakota St.', 'Gonzaga', 'Vanderbilt', 'Northwestern', 'Princeton', 'Notre Dame', 'Bucknell', 'West Virginia', 'Xavier', 'Maryland', 'FGCU', 'Florida State', 'VCU', \"St. Mary's (Cal.)\", 'North Dakota', 'Arizona', 'Texas Southern', 'North Carolina', 'Seton Hall', 'Arkansas', 'Middle Tenn.', 'Minnesota', 'Winthrop', 'Butler', 'Kansas St.', 'Cincinnati', 'Kent State', 'UCLA', 'Wichita State', 'Dayton', 'Northern Kentucky', 'Kentucky']\n",
      "['https://i.turner.ncaa.com/sites/default/files/images/logos/schools/bgd/mt-st-marys.svg', 'https://i.turner.ncaa.com/sites/default/files/images/logos/schools/bgd/villanova.svg', 'https://i.turner.ncaa.com/sites/default/files/images/logos/schools/bgd/virginia-tech.svg', 'https://i.turner.ncaa.com/sites/default/files/images/logos/schools/bgd/wisconsin.svg', 'https://i.turner.ncaa.com/sites/default/files/images/logos/schools/bgd/unc-wilmington.svg', 'https://i.turner.ncaa.com/sites/default/files/images/logos/schools/bgd/virginia.svg', 'https://i.turner.ncaa.com/sites/default/files/images/logos/schools/bgd/east-tenn-st.svg', 'https://i.turner.ncaa.com/sites/default/files/images/logos/schools/bgd/florida.svg', 'https://i.turner.ncaa.com/sites/default/files/images/logos/schools/bgd/southern-california.svg', 'https://i.turner.ncaa.com/sites/default/files/images/logos/schools/bgd/smu.svg', 'https://i.turner.ncaa.com/sites/default/files/images/logos/schools/bgd/new-mexico-st.svg', 'https://i.turner.ncaa.com/sites/default/files/images/logos/schools/bgd/baylor.svg', 'https://i.turner.ncaa.com/sites/default/files/images/logos/schools/bgd/marquette.svg', 'https://i.turner.ncaa.com/sites/default/files/images/logos/schools/bgd/south-carolina.svg', 'https://i.turner.ncaa.com/sites/default/files/images/logos/schools/bgd/troy.svg', 'https://i.turner.ncaa.com/sites/default/files/images/logos/schools/bgd/duke.svg', 'https://i.turner.ncaa.com/sites/default/files/images/logos/schools/bgd/uc-davis.svg', 'https://i.turner.ncaa.com/sites/default/files/images/logos/schools/bgd/kansas.svg', 'https://i.turner.ncaa.com/sites/default/files/images/logos/schools/bgd/michigan-st.svg', 'https://i.turner.ncaa.com/sites/default/files/images/logos/schools/bgd/miami-fl.svg', 'https://i.turner.ncaa.com/sites/default/files/images/logos/schools/bgd/nevada.svg', 'https://i.turner.ncaa.com/sites/default/files/images/logos/schools/bgd/iowa-st.svg', 'https://i.turner.ncaa.com/sites/default/files/images/logos/schools/bgd/vermont.svg', 'https://i.turner.ncaa.com/sites/default/files/images/logos/schools/bgd/purdue.svg', 'https://i.turner.ncaa.com/sites/default/files/images/logos/schools/bgd/rhode-island.svg', 'https://i.turner.ncaa.com/sites/default/files/images/logos/schools/bgd/creighton.svg', 'https://i.turner.ncaa.com/sites/default/files/images/logos/schools/bgd/iona.svg', 'https://i.turner.ncaa.com/sites/default/files/images/logos/schools/bgd/oregon.svg', 'https://i.turner.ncaa.com/sites/default/files/images/logos/schools/bgd/jacksonville-st.svg', 'https://i.turner.ncaa.com/sites/default/files/images/logos/schools/bgd/louisville.svg', 'https://i.turner.ncaa.com/sites/default/files/images/logos/schools/bgd/south-dakota-st.svg', 'https://i.turner.ncaa.com/sites/default/files/images/logos/schools/bgd/gonzaga.svg', 'https://i.turner.ncaa.com/sites/default/files/images/logos/schools/bgd/vanderbilt.svg', 'https://i.turner.ncaa.com/sites/default/files/images/logos/schools/bgd/northwestern.svg', 'https://i.turner.ncaa.com/sites/default/files/images/logos/schools/bgd/princeton.svg', 'https://i.turner.ncaa.com/sites/default/files/images/logos/schools/bgd/notre-dame.svg', 'https://i.turner.ncaa.com/sites/default/files/images/logos/schools/bgd/bucknell.svg', 'https://i.turner.ncaa.com/sites/default/files/images/logos/schools/bgd/west-virginia.svg', 'https://i.turner.ncaa.com/sites/default/files/images/logos/schools/bgd/xavier.svg', 'https://i.turner.ncaa.com/sites/default/files/images/logos/schools/bgd/maryland.svg', 'https://i.turner.ncaa.com/sites/default/files/images/logos/schools/bgd/fgcu.svg', 'https://i.turner.ncaa.com/sites/default/files/images/logos/schools/bgd/florida-st.svg', 'https://i.turner.ncaa.com/sites/default/files/images/logos/schools/bgd/vcu.svg', 'https://i.turner.ncaa.com/sites/default/files/images/logos/schools/bgd/st-marys-ca.svg', 'https://i.turner.ncaa.com/sites/default/files/images/logos/schools/bgd/north-dakota.svg', 'https://i.turner.ncaa.com/sites/default/files/images/logos/schools/bgd/arizona.svg', 'https://i.turner.ncaa.com/sites/default/files/images/logos/schools/bgd/texas-southern.svg', 'https://i.turner.ncaa.com/sites/default/files/images/logos/schools/bgd/north-carolina.svg', 'https://i.turner.ncaa.com/sites/default/files/images/logos/schools/bgd/seton-hall.svg', 'https://i.turner.ncaa.com/sites/default/files/images/logos/schools/bgd/arkansas.svg', 'https://i.turner.ncaa.com/sites/default/files/images/logos/schools/bgd/middle-tenn.svg', 'https://i.turner.ncaa.com/sites/default/files/images/logos/schools/bgd/minnesota.svg', 'https://i.turner.ncaa.com/sites/default/files/images/logos/schools/bgd/winthrop.svg', 'https://i.turner.ncaa.com/sites/default/files/images/logos/schools/bgd/butler.svg', 'https://i.turner.ncaa.com/sites/default/files/images/logos/schools/bgd/kansas-st.svg', 'https://i.turner.ncaa.com/sites/default/files/images/logos/schools/bgd/cincinnati.svg', 'https://i.turner.ncaa.com/sites/default/files/images/logos/schools/bgd/kent-st.svg', 'https://i.turner.ncaa.com/sites/default/files/images/logos/schools/bgd/ucla.svg', 'https://i.turner.ncaa.com/sites/default/files/images/logos/schools/bgd/wichita-st.svg', 'https://i.turner.ncaa.com/sites/default/files/images/logos/schools/bgd/dayton.svg', 'https://i.turner.ncaa.com/sites/default/files/images/logos/schools/bgd/northern-ky.svg', 'https://i.turner.ncaa.com/sites/default/files/images/logos/schools/bgd/kentucky.svg']\n"
     ]
    }
   ],
   "source": [
    "print(team_names)\n",
    "print(team_mascots)"
   ]
  },
  {
   "cell_type": "code",
   "execution_count": 105,
   "metadata": {},
   "outputs": [
    {
     "data": {
      "text/html": [
       "<div>\n",
       "<style scoped>\n",
       "    .dataframe tbody tr th:only-of-type {\n",
       "        vertical-align: middle;\n",
       "    }\n",
       "\n",
       "    .dataframe tbody tr th {\n",
       "        vertical-align: top;\n",
       "    }\n",
       "\n",
       "    .dataframe thead th {\n",
       "        text-align: right;\n",
       "    }\n",
       "</style>\n",
       "<table border=\"1\" class=\"dataframe\">\n",
       "  <thead>\n",
       "    <tr style=\"text-align: right;\">\n",
       "      <th></th>\n",
       "      <th>Team Name</th>\n",
       "      <th>Team Mascot</th>\n",
       "    </tr>\n",
       "  </thead>\n",
       "  <tbody>\n",
       "    <tr>\n",
       "      <th>0</th>\n",
       "      <td>Mt. St. Mary's</td>\n",
       "      <td>https://i.turner.ncaa.com/sites/default/files/...</td>\n",
       "    </tr>\n",
       "    <tr>\n",
       "      <th>1</th>\n",
       "      <td>Villanova</td>\n",
       "      <td>https://i.turner.ncaa.com/sites/default/files/...</td>\n",
       "    </tr>\n",
       "    <tr>\n",
       "      <th>2</th>\n",
       "      <td>Virginia Tech</td>\n",
       "      <td>https://i.turner.ncaa.com/sites/default/files/...</td>\n",
       "    </tr>\n",
       "    <tr>\n",
       "      <th>3</th>\n",
       "      <td>Wisconsin</td>\n",
       "      <td>https://i.turner.ncaa.com/sites/default/files/...</td>\n",
       "    </tr>\n",
       "    <tr>\n",
       "      <th>4</th>\n",
       "      <td>UNCW</td>\n",
       "      <td>https://i.turner.ncaa.com/sites/default/files/...</td>\n",
       "    </tr>\n",
       "  </tbody>\n",
       "</table>\n",
       "</div>"
      ],
      "text/plain": [
       "        Team Name                                        Team Mascot\n",
       "0  Mt. St. Mary's  https://i.turner.ncaa.com/sites/default/files/...\n",
       "1       Villanova  https://i.turner.ncaa.com/sites/default/files/...\n",
       "2   Virginia Tech  https://i.turner.ncaa.com/sites/default/files/...\n",
       "3       Wisconsin  https://i.turner.ncaa.com/sites/default/files/...\n",
       "4            UNCW  https://i.turner.ncaa.com/sites/default/files/..."
      ]
     },
     "execution_count": 105,
     "metadata": {},
     "output_type": "execute_result"
    }
   ],
   "source": [
    "teams_mascot_df = pd.DataFrame({'Team Name':team_names,\n",
    "                               'Team Mascot':team_mascots })\n",
    "teams_mascot_df.head()"
   ]
  },
  {
   "cell_type": "code",
   "execution_count": 106,
   "metadata": {},
   "outputs": [],
   "source": [
    "teams_mascot_df.to_csv('Resources/team_mascot.csv',index=False,encoding='utf-8')"
   ]
  },
  {
   "cell_type": "code",
   "execution_count": 63,
   "metadata": {},
   "outputs": [],
   "source": [
    "\n"
   ]
  },
  {
   "cell_type": "code",
   "execution_count": null,
   "metadata": {},
   "outputs": [],
   "source": []
  },
  {
   "cell_type": "code",
   "execution_count": null,
   "metadata": {},
   "outputs": [],
   "source": []
  },
  {
   "cell_type": "code",
   "execution_count": null,
   "metadata": {},
   "outputs": [],
   "source": []
  }
 ],
 "metadata": {
  "kernelspec": {
   "display_name": "Python 3",
   "language": "python",
   "name": "python3"
  },
  "language_info": {
   "codemirror_mode": {
    "name": "ipython",
    "version": 3
   },
   "file_extension": ".py",
   "mimetype": "text/x-python",
   "name": "python",
   "nbconvert_exporter": "python",
   "pygments_lexer": "ipython3",
   "version": "3.6.6"
  },
  "varInspector": {
   "cols": {
    "lenName": 16,
    "lenType": 16,
    "lenVar": 40
   },
   "kernels_config": {
    "python": {
     "delete_cmd_postfix": "",
     "delete_cmd_prefix": "del ",
     "library": "var_list.py",
     "varRefreshCmd": "print(var_dic_list())"
    },
    "r": {
     "delete_cmd_postfix": ") ",
     "delete_cmd_prefix": "rm(",
     "library": "var_list.r",
     "varRefreshCmd": "cat(var_dic_list()) "
    }
   },
   "types_to_exclude": [
    "module",
    "function",
    "builtin_function_or_method",
    "instance",
    "_Feature"
   ],
   "window_display": false
  }
 },
 "nbformat": 4,
 "nbformat_minor": 2
}
